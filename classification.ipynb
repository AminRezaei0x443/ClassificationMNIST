{
 "cells": [
  {
   "cell_type": "code",
   "execution_count": null,
   "metadata": {
    "colab": {},
    "colab_type": "code",
    "id": "sYjTGvch1wwr"
   },
   "outputs": [],
   "source": [
    "from keras.datasets import mnist\n",
    "from keras.utils import to_categorical\n",
    "import numpy as np\n",
    "import tensorflow as tf\n",
    "import tqdm\n",
    "import seaborn as sns\n",
    "import matplotlib.pyplot as plt"
   ]
  },
  {
   "cell_type": "code",
   "execution_count": null,
   "metadata": {
    "colab": {},
    "colab_type": "code",
    "id": "0zWubOxC-ZTL"
   },
   "outputs": [],
   "source": [
    "input_dim = 28 * 28\n",
    "classes = 10\n",
    "(X_train, y_train), (X_test, y_test) = mnist.load_data()\n",
    "\n",
    "X_train = X_train.reshape(-1, input_dim) / 255.\n",
    "X_test = X_test.reshape(-1, input_dim) / 255.\n",
    "X_train = X_train.astype(np.float32)\n",
    "X_test = X_test.astype(np.float32)\n",
    "\n",
    "\n",
    "y_train_not_encoded = y_train\n",
    "y_test_not_encoded = y_test\n",
    "\n",
    "y_train = to_categorical(y_train, num_classes=classes)\n",
    "y_test = to_categorical(y_test, num_classes=classes)\n",
    "y_train = y_train.astype(np.float32)\n",
    "y_test = y_test.astype(np.float32)"
   ]
  },
  {
   "cell_type": "code",
   "execution_count": null,
   "metadata": {
    "colab": {},
    "colab_type": "code",
    "id": "47ApmaKk1K-s"
   },
   "outputs": [],
   "source": [
    "from sklearn.manifold import TSNE\n",
    "tsne = TSNE(n_components=2)\n",
    "embed_test = tsne.fit_transform(X_test)"
   ]
  },
  {
   "cell_type": "code",
   "execution_count": null,
   "metadata": {
    "colab": {},
    "colab_type": "code",
    "id": "svIGUj-BKyCo"
   },
   "outputs": [],
   "source": [
    "colors = [\n",
    "           \"#5D2E8C\",\"#FF3D3D\",\"#2EC4B6\",\"#FF9770\",\"#65B891\",\n",
    "           \"#3A445D\",\"#0E0F19\",\"#CB9CF2\",\"#0FA3B1\",\"#DC136C\"]\n",
    "palette = sns.color_palette(colors)"
   ]
  },
  {
   "cell_type": "code",
   "execution_count": null,
   "metadata": {
    "colab": {
     "base_uri": "https://localhost:8080/",
     "height": 598
    },
    "colab_type": "code",
    "id": "Ya7WFugk7ZbD",
    "outputId": "71f16cf1-94d5-47f5-9aba-06ccb7abf929"
   },
   "outputs": [],
   "source": [
    "f, ax = plt.subplots(1,1, dpi=144)\n",
    "sns.scatterplot(x=embed_test[:, 0], y=embed_test[:, 1],\n",
    "                hue=y_test_not_encoded,\n",
    "                style=y_test_not_encoded,\n",
    "                ax=ax,\n",
    "                palette=palette,\n",
    "                edgecolor=\"#F4F4F6\",\n",
    "                markers=[\"o\" for _ in range(10)])"
   ]
  },
  {
   "cell_type": "code",
   "execution_count": null,
   "metadata": {
    "colab": {
     "base_uri": "https://localhost:8080/",
     "height": 34
    },
    "colab_type": "code",
    "id": "KrdEBmCnDbej",
    "outputId": "6c45fba5-c5df-4d7d-8475-1071c12f89f8"
   },
   "outputs": [],
   "source": [
    "from sklearn.linear_model import LogisticRegression\n",
    "from sklearn.metrics import accuracy_score\n",
    "\n",
    "regressor = LogisticRegression()\n",
    "regressor.fit(X_train, y_train_not_encoded)\n",
    "\n",
    "y_pred = regressor.predict(X_test)\n",
    "accuracy_score(y_pred, y_test_not_encoded)"
   ]
  },
  {
   "cell_type": "code",
   "execution_count": null,
   "metadata": {
    "colab": {
     "base_uri": "https://localhost:8080/",
     "height": 34
    },
    "colab_type": "code",
    "id": "sb1IgOvgN7oC",
    "outputId": "bf0a6de0-990a-4569-8c85-eab2ff6874d8"
   },
   "outputs": [],
   "source": [
    "from sklearn.linear_model import LinearRegression\n",
    "from sklearn.metrics import accuracy_score\n",
    "\n",
    "regressor = LinearRegression()\n",
    "regressor.fit(X_train, y_train_not_encoded)\n",
    "\n",
    "y_pred = regressor.predict(X_test)\n",
    "y_pred = np.round(y_pred).astype(np.int)\n",
    "accuracy_score(y_pred, y_test_not_encoded)"
   ]
  },
  {
   "cell_type": "code",
   "execution_count": null,
   "metadata": {
    "colab": {},
    "colab_type": "code",
    "id": "OVriKaL7_zwW"
   },
   "outputs": [],
   "source": [
    "from tensorflow.python.util import deprecation\n",
    "deprecation._PRINT_DEPRECATION_WARNINGS = False\n",
    "from tensorflow.keras.models import Sequential\n",
    "from tensorflow.keras.layers import Dense, Activation\n",
    "\n",
    "model = Sequential()\n",
    "model.add(Dense(392, input_dim=input_dim, activation=\"relu\"))\n",
    "model.add(Dense(10, activation=\"softmax\"))\n",
    "\n",
    "model.compile(optimizer='adam',\n",
    "              loss='categorical_crossentropy',\n",
    "              metrics=['accuracy'])"
   ]
  },
  {
   "cell_type": "code",
   "execution_count": null,
   "metadata": {
    "colab": {
     "base_uri": "https://localhost:8080/",
     "height": 411
    },
    "colab_type": "code",
    "id": "haiFejVG_0CS",
    "outputId": "353ed7dc-9645-4ea9-93cf-437011a2387b"
   },
   "outputs": [],
   "source": [
    "model.fit(X_train, y_train, batch_size=32, epochs=10, validation_split=0.1)"
   ]
  },
  {
   "cell_type": "code",
   "execution_count": null,
   "metadata": {
    "colab": {
     "base_uri": "https://localhost:8080/",
     "height": 51
    },
    "colab_type": "code",
    "id": "F-YnYEqADn35",
    "outputId": "37184d4a-e429-4f7c-e533-aa4e0ed7538e"
   },
   "outputs": [],
   "source": [
    "model.evaluate(X_test, y_test, batch_size=32)"
   ]
  },
  {
   "cell_type": "code",
   "execution_count": null,
   "metadata": {
    "colab": {},
    "colab_type": "code",
    "id": "eOqm5EPsQtMv"
   },
   "outputs": [],
   "source": [
    "y_pred = model.predict_classes(X_test, batch_size=32)"
   ]
  },
  {
   "cell_type": "code",
   "execution_count": null,
   "metadata": {
    "colab": {
     "base_uri": "https://localhost:8080/",
     "height": 1000
    },
    "colab_type": "code",
    "id": "y1SIdh8OQ3IJ",
    "outputId": "783a9d25-cc08-4c16-a3cf-70ebcff36862",
    "scrolled": true
   },
   "outputs": [],
   "source": [
    "f, ax = plt.subplots(3,1,figsize=(8,15), dpi=144)\n",
    "pal_tr = sns.color_palette([\"#D52941\",\"#ffffff\"])\n",
    "sns.scatterplot(x=embed_test[:, 0], y=embed_test[:, 1],\n",
    "                ax=ax[0],\n",
    "                hue= y_test_not_encoded,\n",
    "                style= y_test_not_encoded,\n",
    "                palette=palette,\n",
    "                edgecolor=\"#F4F4F6\",\n",
    "                markers=[\"o\" for _ in range(10)])\n",
    "sns.scatterplot(x=embed_test[:, 0], y=embed_test[:, 1],\n",
    "                ax=ax[1],\n",
    "                hue=y_pred,\n",
    "                style=y_pred,\n",
    "                palette=palette,\n",
    "                edgecolor=\"#F4F4F6\",\n",
    "                markers=[\"o\" for _ in range(10)])\n",
    "sns.scatterplot(x=embed_test[:, 0], y=embed_test[:, 1],\n",
    "                ax=ax[2],\n",
    "                hue=y_pred == y_test_not_encoded,\n",
    "                style=y_pred == y_test_not_encoded,\n",
    "                palette=pal_tr,\n",
    "                edgecolor=\"#000000\",\n",
    "                markers=[\"X\",\"o\"])"
   ]
  },
  {
   "cell_type": "code",
   "execution_count": null,
   "metadata": {},
   "outputs": [],
   "source": [
    "from sklearn.metrics import confusion_matrix\n",
    "f, ax = plt.subplots(1,1, dpi=121)\n",
    "mat = confusion_matrix(y_test_not_encoded, y_pred)\n",
    "sns.heatmap(mat, annot=True, fmt=\"d\", ax=ax)"
   ]
  },
  {
   "cell_type": "code",
   "execution_count": null,
   "metadata": {
    "colab": {},
    "colab_type": "code",
    "id": "pJzt44i4SKkE"
   },
   "outputs": [],
   "source": [
    "from tensorflow.keras.models import Sequential\n",
    "from tensorflow.keras.layers import Dense, Activation\n",
    "\n",
    "model = Sequential()\n",
    "model.add(Dense(10, input_dim=input_dim, activation=\"softmax\"))\n",
    "\n",
    "model.compile(optimizer='adam',\n",
    "              loss='categorical_crossentropy',\n",
    "              metrics=['accuracy'])"
   ]
  },
  {
   "cell_type": "code",
   "execution_count": null,
   "metadata": {
    "colab": {
     "base_uri": "https://localhost:8080/",
     "height": 411
    },
    "colab_type": "code",
    "id": "YkYsp1XuSbLU",
    "outputId": "f583e3db-143d-4249-dfa4-776e786e8c93"
   },
   "outputs": [],
   "source": [
    "model.fit(X_train, y_train, batch_size=256, epochs=10, validation_split=0.1)"
   ]
  },
  {
   "cell_type": "code",
   "execution_count": null,
   "metadata": {
    "colab": {
     "base_uri": "https://localhost:8080/",
     "height": 51
    },
    "colab_type": "code",
    "id": "E-1cLZ5WS1ek",
    "outputId": "5b384d49-0544-462b-b7b8-541b32c8389b"
   },
   "outputs": [],
   "source": [
    "model.evaluate(X_test, y_test, batch_size=256)"
   ]
  },
  {
   "cell_type": "code",
   "execution_count": null,
   "metadata": {
    "colab": {
     "base_uri": "https://localhost:8080/",
     "height": 102
    },
    "colab_type": "code",
    "id": "yIsIxBDbULDw",
    "outputId": "315c1bef-2c7f-448f-e7bd-313ebadb989d"
   },
   "outputs": [],
   "source": [
    "!git clone https://github.com/otenim/TensorFlow-OS-ELM"
   ]
  },
  {
   "cell_type": "code",
   "execution_count": null,
   "metadata": {
    "colab": {},
    "colab_type": "code",
    "id": "cGYO170kUWiD"
   },
   "outputs": [],
   "source": [
    "!cp TensorFlow-OS-ELM/os_elm.py ./"
   ]
  },
  {
   "cell_type": "code",
   "execution_count": null,
   "metadata": {
    "colab": {},
    "colab_type": "code",
    "id": "vYIzhQBrUhN1"
   },
   "outputs": [],
   "source": [
    "from os_elm import OS_ELM"
   ]
  },
  {
   "cell_type": "code",
   "execution_count": null,
   "metadata": {
    "colab": {},
    "colab_type": "code",
    "id": "CSqx-R_pUq4o"
   },
   "outputs": [],
   "source": [
    "def softmax(a):\n",
    "    c = np.max(a, axis=-1).reshape(-1, 1)\n",
    "    exp_a = np.exp(a - c)\n",
    "    sum_exp_a = np.sum(exp_a, axis=-1).reshape(-1, 1)\n",
    "    return exp_a / sum_exp_a"
   ]
  },
  {
   "cell_type": "code",
   "execution_count": null,
   "metadata": {
    "colab": {},
    "colab_type": "code",
    "id": "riQCOG9zUt_P"
   },
   "outputs": [],
   "source": [
    "hidden_dim = 7000\n",
    "elm = OS_ELM(\n",
    "        n_input_nodes= input_dim,\n",
    "        n_hidden_nodes= hidden_dim,\n",
    "        n_output_nodes= classes,\n",
    "        loss='categorical_crossentropy',\n",
    "        activation='sigmoid')\n",
    "\n",
    "border = int(1.5 * hidden_dim)\n",
    "X_train_init = X_train[:border]\n",
    "X_train_seq = X_train[border:]\n",
    "y_train_init = y_train[:border]\n",
    "y_train_seq = y_train[border:]"
   ]
  },
  {
   "cell_type": "code",
   "execution_count": null,
   "metadata": {
    "colab": {
     "base_uri": "https://localhost:8080/",
     "height": 34
    },
    "colab_type": "code",
    "id": "ZQyEsHw2Wdmu",
    "outputId": "865e1acd-1224-4785-e963-605288020318"
   },
   "outputs": [],
   "source": [
    "pbar = tqdm.tqdm(total=len(X_train), desc='initial training phase')\n",
    "elm.init_train(X_train_init, y_train_init)\n",
    "pbar.update(n=len(X_train_init))\n",
    "\n",
    "pbar.set_description('sequential training phase')\n",
    "batch_size = 64\n",
    "for i in range(0, len(X_train_seq), batch_size):\n",
    "    X_batch = X_train_seq[i:i+batch_size]\n",
    "    y_batch = y_train_seq[i:i+batch_size]\n",
    "    elm.seq_train(X_batch, y_batch)\n",
    "    pbar.update(n=len(X_batch))\n",
    "pbar.close()"
   ]
  },
  {
   "cell_type": "code",
   "execution_count": null,
   "metadata": {
    "colab": {
     "base_uri": "https://localhost:8080/",
     "height": 34
    },
    "colab_type": "code",
    "id": "vlmFxr_Tffvz",
    "outputId": "45e79c3e-473c-4a88-c941-853593edaa95"
   },
   "outputs": [],
   "source": [
    "res = elm._OS_ELM__sess.run([elm._OS_ELM__loss,elm._OS_ELM__accuracy], feed_dict={elm._OS_ELM__x: X_test, elm._OS_ELM__t: y_test})\n",
    "print(\"accuracy %f\" % res[1])"
   ]
  },
  {
   "cell_type": "code",
   "execution_count": null,
   "metadata": {
    "colab": {},
    "colab_type": "code",
    "id": "3KBGeBAhUc3k"
   },
   "outputs": [],
   "source": [
    "from tensorflow.python.util import deprecation\n",
    "deprecation._PRINT_DEPRECATION_WARNINGS = False"
   ]
  },
  {
   "cell_type": "code",
   "execution_count": null,
   "metadata": {
    "colab": {},
    "colab_type": "code",
    "id": "9YpJpM0pHKDf"
   },
   "outputs": [],
   "source": [
    "import keras\n",
    "from keras.models import Sequential\n",
    "from keras.layers import Dense, Dropout, Activation, Flatten\n",
    "from keras.layers import Conv2D, MaxPooling2D\n",
    "from keras import backend as k\n",
    "\n",
    "img_dim = (28, 28)\n",
    "if k.image_data_format() == 'channels_first':\n",
    "    X_train = X_train.reshape(X_train.shape[0], 1, img_dim[0], img_dim[1])\n",
    "    X_test = X_test.reshape(X_test.shape[0], 1, img_dim[0], img_dim[1])\n",
    "    input_shape = (1, img_dim[0], img_dim[1])\n",
    "else:\n",
    "    X_train = X_train.reshape(X_train.shape[0], img_dim[0], img_dim[1], 1)\n",
    "    X_test = X_test.reshape(X_test.shape[0], img_dim[0], img_dim[1], 1)\n",
    "    input_shape = (img_dim[0], img_dim[1], 1)\n",
    "\n",
    "model = Sequential()\n",
    "model.add(Conv2D(32, (3, 3), padding='same',\n",
    "                 input_shape=input_shape))\n",
    "model.add(Activation('relu'))\n",
    "model.add(Conv2D(32, (3, 3)))\n",
    "model.add(Activation('relu'))\n",
    "model.add(MaxPooling2D(pool_size=(2, 2)))\n",
    "model.add(Dropout(0.25))\n",
    "\n",
    "model.add(Conv2D(64, (3, 3), padding='same'))\n",
    "model.add(Activation('relu'))\n",
    "model.add(Conv2D(64, (3, 3)))\n",
    "model.add(Activation('relu'))\n",
    "model.add(MaxPooling2D(pool_size=(2, 2)))\n",
    "model.add(Dropout(0.25))\n",
    "\n",
    "model.add(Flatten())\n",
    "model.add(Dense(512))\n",
    "model.add(Activation('relu'))\n",
    "model.add(Dropout(0.5))\n",
    "model.add(Dense(classes))\n",
    "model.add(Activation('softmax'))"
   ]
  },
  {
   "cell_type": "code",
   "execution_count": null,
   "metadata": {
    "colab": {},
    "colab_type": "code",
    "id": "XDMbx3kTN589"
   },
   "outputs": [],
   "source": [
    "model.compile(optimizer='adam',\n",
    "              loss='categorical_crossentropy',\n",
    "              metrics=['accuracy'])"
   ]
  },
  {
   "cell_type": "code",
   "execution_count": null,
   "metadata": {
    "colab": {
     "base_uri": "https://localhost:8080/",
     "height": 581
    },
    "colab_type": "code",
    "id": "CNFv-vmBN_5K",
    "outputId": "5011ca6f-0efc-4f77-d702-d184d735b67c"
   },
   "outputs": [],
   "source": [
    "model.fit(X_train, y_train, batch_size=256, epochs=15, validation_split=0.1)"
   ]
  },
  {
   "cell_type": "code",
   "execution_count": null,
   "metadata": {
    "colab": {
     "base_uri": "https://localhost:8080/",
     "height": 51
    },
    "colab_type": "code",
    "id": "xmLaFsd9OmEt",
    "outputId": "a5aacddb-4e35-4584-c92c-52508ced039b"
   },
   "outputs": [],
   "source": [
    "model.evaluate(X_test, y_test, batch_size=256)"
   ]
  },
  {
   "cell_type": "code",
   "execution_count": null,
   "metadata": {
    "colab": {},
    "colab_type": "code",
    "id": "xVFaLeKSMCgz"
   },
   "outputs": [],
   "source": [
    "y_pred = model.predict_classes(X_test, batch_size=256)"
   ]
  },
  {
   "cell_type": "code",
   "execution_count": null,
   "metadata": {
    "colab": {
     "base_uri": "https://localhost:8080/",
     "height": 1000
    },
    "colab_type": "code",
    "id": "aAD5Zrt8MHyh",
    "outputId": "da691c2e-9074-4c54-b982-bb49e6e8016f",
    "scrolled": false
   },
   "outputs": [],
   "source": [
    "f, ax = plt.subplots(3,1,figsize=(8,15), dpi=144)\n",
    "pal_tr = sns.color_palette([\"#D52941\",\"#ffffff\"])\n",
    "sns.scatterplot(x=embed_test[:, 0], y=embed_test[:, 1],\n",
    "                ax=ax[0],\n",
    "                hue= y_test_not_encoded,\n",
    "                style= y_test_not_encoded,\n",
    "                palette=palette,\n",
    "                edgecolor=\"#F4F4F6\",\n",
    "                markers=[\"o\" for _ in range(10)])\n",
    "sns.scatterplot(x=embed_test[:, 0], y=embed_test[:, 1],\n",
    "                ax=ax[1],\n",
    "                hue=y_pred,\n",
    "                style=y_pred,\n",
    "                palette=palette,\n",
    "                edgecolor=\"#F4F4F6\",\n",
    "                markers=[\"o\" for _ in range(10)])\n",
    "sns.scatterplot(x=embed_test[:, 0], y=embed_test[:, 1],\n",
    "                ax=ax[2],\n",
    "                hue=y_pred == y_test_not_encoded,\n",
    "                style=y_pred == y_test_not_encoded,\n",
    "                palette=pal_tr,\n",
    "                edgecolor=\"#000000\",\n",
    "                markers=[\"X\",\"o\"])"
   ]
  },
  {
   "cell_type": "code",
   "execution_count": null,
   "metadata": {},
   "outputs": [],
   "source": [
    "from sklearn.metrics import confusion_matrix\n",
    "f, ax = plt.subplots(1,1, dpi=121)\n",
    "mat = confusion_matrix(y_test_not_encoded, y_pred)\n",
    "sns.heatmap(mat, annot=True, fmt=\"d\", ax=ax)"
   ]
  }
 ],
 "metadata": {
  "accelerator": "GPU",
  "colab": {
   "collapsed_sections": [],
   "name": "Proj3-NN.ipynb",
   "provenance": [],
   "toc_visible": true
  },
  "kernelspec": {
   "display_name": "Python 3",
   "language": "python",
   "name": "python3"
  },
  "language_info": {
   "codemirror_mode": {
    "name": "ipython",
    "version": 3
   },
   "file_extension": ".py",
   "mimetype": "text/x-python",
   "name": "python",
   "nbconvert_exporter": "python",
   "pygments_lexer": "ipython3",
   "version": "3.7.5"
  },
  "latex_envs": {
   "LaTeX_envs_menu_present": true,
   "autoclose": false,
   "autocomplete": true,
   "bibliofile": "biblio.bib",
   "cite_by": "apalike",
   "current_citInitial": 1,
   "eqLabelWithNumbers": true,
   "eqNumInitial": 1,
   "hotkeys": {
    "equation": "Ctrl-E",
    "itemize": "Ctrl-I"
   },
   "labels_anchors": false,
   "latex_user_defs": false,
   "report_style_numbering": false,
   "user_envs_cfg": false
  },
  "toc": {
   "base_numbering": 1,
   "nav_menu": {},
   "number_sections": true,
   "sideBar": true,
   "skip_h1_title": false,
   "title_cell": "Table of Contents",
   "title_sidebar": "Contents",
   "toc_cell": false,
   "toc_position": {},
   "toc_section_display": true,
   "toc_window_display": false
  }
 },
 "nbformat": 4,
 "nbformat_minor": 1
}
